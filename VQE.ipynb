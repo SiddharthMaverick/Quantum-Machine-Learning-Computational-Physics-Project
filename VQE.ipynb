{
 "cells": [
  {
   "cell_type": "code",
   "execution_count": 1,
   "metadata": {},
   "outputs": [
    {
     "name": "stdout",
     "output_type": "stream",
     "text": [
      "Requirement already satisfied: qiskit in c:\\users\\siddh\\.conda\\envs\\cwq\\lib\\site-packages (1.3.1)\n",
      "Requirement already satisfied: qiskit_algorithms in c:\\users\\siddh\\.conda\\envs\\cwq\\lib\\site-packages (0.3.1)\n",
      "Requirement already satisfied: rustworkx>=0.15.0 in c:\\users\\siddh\\.conda\\envs\\cwq\\lib\\site-packages (from qiskit) (0.15.0)\n",
      "Requirement already satisfied: numpy<3,>=1.17 in c:\\users\\siddh\\.conda\\envs\\cwq\\lib\\site-packages (from qiskit) (2.0.0)\n",
      "Requirement already satisfied: scipy>=1.5 in c:\\users\\siddh\\.conda\\envs\\cwq\\lib\\site-packages (from qiskit) (1.14.0)\n",
      "Requirement already satisfied: sympy>=1.3 in c:\\users\\siddh\\.conda\\envs\\cwq\\lib\\site-packages (from qiskit) (1.13.1)\n",
      "Requirement already satisfied: dill>=0.3 in c:\\users\\siddh\\.conda\\envs\\cwq\\lib\\site-packages (from qiskit) (0.3.8)\n",
      "Requirement already satisfied: python-dateutil>=2.8.0 in c:\\users\\siddh\\.conda\\envs\\cwq\\lib\\site-packages (from qiskit) (2.9.0.post0)\n",
      "Requirement already satisfied: stevedore>=3.0.0 in c:\\users\\siddh\\.conda\\envs\\cwq\\lib\\site-packages (from qiskit) (5.2.0)\n",
      "Requirement already satisfied: typing-extensions in c:\\users\\siddh\\.conda\\envs\\cwq\\lib\\site-packages (from qiskit) (4.12.2)\n",
      "Requirement already satisfied: symengine<0.14,>=0.11 in c:\\users\\siddh\\.conda\\envs\\cwq\\lib\\site-packages (from qiskit) (0.11.0)\n",
      "Requirement already satisfied: six>=1.5 in c:\\users\\siddh\\.conda\\envs\\cwq\\lib\\site-packages (from python-dateutil>=2.8.0->qiskit) (1.16.0)\n",
      "Requirement already satisfied: pbr!=2.1.0,>=2.0.0 in c:\\users\\siddh\\.conda\\envs\\cwq\\lib\\site-packages (from stevedore>=3.0.0->qiskit) (6.0.0)\n",
      "Requirement already satisfied: mpmath<1.4,>=1.1.0 in c:\\users\\siddh\\.conda\\envs\\cwq\\lib\\site-packages (from sympy>=1.3->qiskit) (1.3.0)\n"
     ]
    }
   ],
   "source": [
    "! pip install --upgrade qiskit qiskit_algorithms"
   ]
  },
  {
   "cell_type": "markdown",
   "metadata": {},
   "source": [
    "# Importing Required Libraries"
   ]
  },
  {
   "cell_type": "code",
   "execution_count": 2,
   "metadata": {},
   "outputs": [],
   "source": [
    "import numpy as np\n",
    "from qiskit.circuit.library import EfficientSU2\n",
    "from qiskit.quantum_info import SparsePauliOp\n",
    "from scipy.optimize import minimize\n",
    "import matplotlib.pyplot as plt\n",
    "from qiskit import QuantumCircuit\n",
    "from qiskit.circuit import Parameter\n",
    "from qiskit.quantum_info import Pauli, SparsePauliOp\n",
    "from qiskit_algorithms import VQE\n",
    "from qiskit_algorithms.optimizers import COBYLA\n",
    "from qiskit.primitives import Estimator\n",
    "from qiskit.quantum_info import Pauli, SparsePauliOp\n"
   ]
  },
  {
   "cell_type": "markdown",
   "metadata": {},
   "source": [
    "# Hamiltonian Defined"
   ]
  },
  {
   "cell_type": "code",
   "execution_count": 3,
   "metadata": {},
   "outputs": [
    {
     "name": "stdout",
     "output_type": "stream",
     "text": [
      "SparsePauliOp(['XX', 'YY', 'ZI'],\n",
      "              coeffs=[1.+0.j, 1.+0.j, 1.+0.j])\n"
     ]
    }
   ],
   "source": [
    "# Define the Hamiltonian using Pauli operators\n",
    "hamiltonian = SparsePauliOp.from_list([\n",
    "    (\"XX\", 1.0),  # X_0 X_1 term\n",
    "    (\"YY\", 1.0),  # Y_0 Y_1 term\n",
    "    (\"ZI\", 1.0)   # Z_0 I_1 term\n",
    "])\n",
    "\n",
    "print(hamiltonian)"
   ]
  },
  {
   "cell_type": "markdown",
   "metadata": {},
   "source": [
    "# Ansatz Defined"
   ]
  },
  {
   "cell_type": "code",
   "execution_count": 4,
   "metadata": {},
   "outputs": [
    {
     "data": {
      "image/png": "[encoded data removed]",
      "text/plain": [
       "<Figure size 1039.79x200.667 with 1 Axes>"
      ]
     },
     "execution_count": 4,
     "metadata": {},
     "output_type": "execute_result"
    }
   ],
   "source": [
    "from qiskit.circuit.library import QAOAAnsatz\n",
    "from qiskit.quantum_info import SparsePauliOp\n",
    "from qiskit.circuit.library import EfficientSU2\n",
    "\n",
    "ansatz = EfficientSU2(hamiltonian.num_qubits)\n",
    "ansatz.decompose().draw(\"mpl\", style=\"iqp\")"
   ]
  },
  {
   "cell_type": "code",
   "execution_count": 5,
   "metadata": {},
   "outputs": [
    {
     "data": {
      "text/plain": [
       "16"
      ]
     },
     "execution_count": 5,
     "metadata": {},
     "output_type": "execute_result"
    }
   ],
   "source": [
    "num_params = ansatz.num_parameters\n",
    "num_params"
   ]
  },
  {
   "cell_type": "markdown",
   "metadata": {},
   "source": [
    "# Cost Function defined"
   ]
  },
  {
   "cell_type": "code",
   "execution_count": 6,
   "metadata": {},
   "outputs": [],
   "source": [
    "def cost_func(params, ansatz, hamiltonian, estimator):\n",
    "    \"\"\"Return estimate of energy from estimator\n",
    "\n",
    "    Parameters:\n",
    "        params (ndarray): Array of ansatz parameters\n",
    "        ansatz (QuantumCircuit): Parameterized ansatz circuit\n",
    "        hamiltonian (SparsePauliOp): Operator representation of Hamiltonian\n",
    "        estimator (EstimatorV2): Estimator primitive instance\n",
    "        cost_history_dict: Dictionary for storing intermediate results\n",
    "\n",
    "    Returns:\n",
    "        float: Energy estimate\n",
    "    \"\"\"\n",
    "    pub = (ansatz, [hamiltonian], [params])\n",
    "    result = estimator.run(pubs=[pub]).result()\n",
    "    energy = result[0].data.evs[0]\n",
    "\n",
    "    cost_history_dict[\"iters\"] += 1\n",
    "    cost_history_dict[\"prev_vector\"] = params\n",
    "    cost_history_dict[\"cost_history\"].append(energy)\n",
    "    print(f\"Iters. done: {cost_history_dict['iters']} [Current cost: {energy}]\")\n",
    "\n",
    "    return energy"
   ]
  },
  {
   "cell_type": "code",
   "execution_count": 7,
   "metadata": {},
   "outputs": [],
   "source": [
    "cost_history_dict = {\n",
    "    \"prev_vector\": None,\n",
    "    \"iters\": 0,\n",
    "    \"cost_history\": [],\n",
    "}"
   ]
  },
  {
   "cell_type": "code",
   "execution_count": 8,
   "metadata": {},
   "outputs": [],
   "source": [
    "x0 = 2 * np.pi * np.random.random(num_params)"
   ]
  },
  {
   "cell_type": "code",
   "execution_count": 9,
   "metadata": {},
   "outputs": [
    {
     "data": {
      "text/plain": [
       "array([0.75286989, 5.21742098, 2.22377258, 0.80225138, 4.59986347,\n",
       "       2.40242487, 5.22854184, 4.25315993, 0.78320407, 1.87208156,\n",
       "       6.02417798, 3.37689835, 5.48213813, 2.11361411, 3.55957563,\n",
       "       5.92580583])"
      ]
     },
     "execution_count": 9,
     "metadata": {},
     "output_type": "execute_result"
    }
   ],
   "source": [
    "x0"
   ]
  },
  {
   "cell_type": "code",
   "execution_count": 10,
   "metadata": {},
   "outputs": [],
   "source": [
    "from qiskit.primitives import StatevectorEstimator\n",
    "estimator = StatevectorEstimator()"
   ]
  },
  {
   "cell_type": "code",
   "execution_count": 11,
   "metadata": {},
   "outputs": [
    {
     "name": "stdout",
     "output_type": "stream",
     "text": [
      "Iters. done: 1 [Current cost: 1.7454631504951759]\n",
      "Iters. done: 2 [Current cost: 1.3357843693314158]\n",
      "Iters. done: 3 [Current cost: 0.537620764767015]\n",
      "Iters. done: 4 [Current cost: 0.8328342710479608]\n",
      "Iters. done: 5 [Current cost: 0.46876705062630164]\n",
      "Iters. done: 6 [Current cost: 0.8888658890438881]\n",
      "Iters. done: 7 [Current cost: 1.0994559646185376]\n",
      "Iters. done: 8 [Current cost: 0.851176955403488]\n",
      "Iters. done: 9 [Current cost: -0.20318883258601217]\n",
      "Iters. done: 10 [Current cost: -1.0757013232139268]\n",
      "Iters. done: 11 [Current cost: -0.5149684547983263]\n",
      "Iters. done: 12 [Current cost: -0.38862729990568207]\n",
      "Iters. done: 13 [Current cost: -1.8359778176365018]\n",
      "Iters. done: 14 [Current cost: -1.4052718664881056]\n",
      "Iters. done: 15 [Current cost: -1.839827749086406]\n",
      "Iters. done: 16 [Current cost: -0.8313210736977241]\n",
      "Iters. done: 17 [Current cost: -1.44714677963424]\n",
      "Iters. done: 18 [Current cost: -0.9268186676715112]\n",
      "Iters. done: 19 [Current cost: -1.975370509460133]\n",
      "Iters. done: 20 [Current cost: -1.9111080395323548]\n",
      "Iters. done: 21 [Current cost: -1.8444523599835119]\n",
      "Iters. done: 22 [Current cost: -1.443595119132702]\n",
      "Iters. done: 23 [Current cost: -1.953759231431862]\n",
      "Iters. done: 24 [Current cost: -1.2283576005294639]\n",
      "Iters. done: 25 [Current cost: -1.7864507642341108]\n",
      "Iters. done: 26 [Current cost: -1.1965345982359799]\n",
      "Iters. done: 27 [Current cost: -1.797652260442502]\n",
      "Iters. done: 28 [Current cost: -1.9333843022977804]\n",
      "Iters. done: 29 [Current cost: -1.8759085283055308]\n",
      "Iters. done: 30 [Current cost: -2.0059596720282404]\n",
      "Iters. done: 31 [Current cost: -2.024041198910952]\n",
      "Iters. done: 32 [Current cost: -1.9514288354267308]\n",
      "Iters. done: 33 [Current cost: -1.5442529700882346]\n",
      "Iters. done: 34 [Current cost: -2.0432864036335077]\n",
      "Iters. done: 35 [Current cost: -1.933279260917307]\n",
      "Iters. done: 36 [Current cost: -1.9792914048988393]\n",
      "Iters. done: 37 [Current cost: -2.0718422596400092]\n",
      "Iters. done: 38 [Current cost: -2.1196605800885493]\n",
      "Iters. done: 39 [Current cost: -2.0030476416027736]\n",
      "Iters. done: 40 [Current cost: -2.121898753031652]\n",
      "Iters. done: 41 [Current cost: -1.832115001439999]\n",
      "Iters. done: 42 [Current cost: -2.0906922509029857]\n",
      "Iters. done: 43 [Current cost: -2.013158412872942]\n",
      "Iters. done: 44 [Current cost: -2.155106555320026]\n",
      "Iters. done: 45 [Current cost: -1.839576414717237]\n",
      "Iters. done: 46 [Current cost: -2.142821835313052]\n",
      "Iters. done: 47 [Current cost: -2.1332738526932413]\n",
      "Iters. done: 48 [Current cost: -2.156793959013244]\n",
      "Iters. done: 49 [Current cost: -2.0948266202335204]\n",
      "Iters. done: 50 [Current cost: -1.8496222480556335]\n",
      "Iters. done: 51 [Current cost: -2.040673482526412]\n",
      "Iters. done: 52 [Current cost: -2.1389897932764352]\n",
      "Iters. done: 53 [Current cost: -2.126196818347474]\n",
      "Iters. done: 54 [Current cost: -2.1442999848582924]\n",
      "Iters. done: 55 [Current cost: -2.1422547100832072]\n",
      "Iters. done: 56 [Current cost: -2.1426049895757524]\n",
      "Iters. done: 57 [Current cost: -2.1072801988853422]\n",
      "Iters. done: 58 [Current cost: -2.135111639792213]\n",
      "Iters. done: 59 [Current cost: -2.158300122791891]\n",
      "Iters. done: 60 [Current cost: -2.0889573493798155]\n",
      "Iters. done: 61 [Current cost: -2.1373222243020513]\n",
      "Iters. done: 62 [Current cost: -2.1598616432662414]\n",
      "Iters. done: 63 [Current cost: -2.170501670364388]\n",
      "Iters. done: 64 [Current cost: -2.164675560027388]\n",
      "Iters. done: 65 [Current cost: -2.1487355156574592]\n",
      "Iters. done: 66 [Current cost: -2.185189014008629]\n",
      "Iters. done: 67 [Current cost: -2.1941257622606436]\n",
      "Iters. done: 68 [Current cost: -2.1702071528140126]\n",
      "Iters. done: 69 [Current cost: -2.148375905081737]\n",
      "Iters. done: 70 [Current cost: -2.162739849236401]\n",
      "Iters. done: 71 [Current cost: -2.1693961174742125]\n",
      "Iters. done: 72 [Current cost: -2.1848729149838118]\n",
      "Iters. done: 73 [Current cost: -2.106225196916145]\n",
      "Iters. done: 74 [Current cost: -2.1790604324033547]\n",
      "Iters. done: 75 [Current cost: -2.1596101699849113]\n",
      "Iters. done: 76 [Current cost: -2.185374929302765]\n",
      "Iters. done: 77 [Current cost: -2.1206193546196066]\n",
      "Iters. done: 78 [Current cost: -2.175461623870529]\n",
      "Iters. done: 79 [Current cost: -2.193562387842961]\n",
      "Iters. done: 80 [Current cost: -2.1965080434297115]\n",
      "Iters. done: 81 [Current cost: -2.1826516006275734]\n",
      "Iters. done: 82 [Current cost: -2.200911127135401]\n",
      "Iters. done: 83 [Current cost: -2.2013512149589953]\n",
      "Iters. done: 84 [Current cost: -2.1806420928883847]\n",
      "Iters. done: 85 [Current cost: -2.1980177156935525]\n",
      "Iters. done: 86 [Current cost: -2.1798190159469333]\n",
      "Iters. done: 87 [Current cost: -2.1885549536410274]\n",
      "Iters. done: 88 [Current cost: -2.1892410241026528]\n",
      "Iters. done: 89 [Current cost: -2.1854430970411616]\n",
      "Iters. done: 90 [Current cost: -2.2187847088475072]\n",
      "Iters. done: 91 [Current cost: -2.2170448033832946]\n",
      "Iters. done: 92 [Current cost: -2.2141011592085547]\n",
      "Iters. done: 93 [Current cost: -2.214253108111299]\n",
      "Iters. done: 94 [Current cost: -2.2163790232622773]\n",
      "Iters. done: 95 [Current cost: -2.2166887334681156]\n",
      "Iters. done: 96 [Current cost: -2.216490285891396]\n",
      "Iters. done: 97 [Current cost: -2.205481123056037]\n",
      "Iters. done: 98 [Current cost: -2.224474195242613]\n",
      "Iters. done: 99 [Current cost: -2.2250307400236062]\n",
      "Iters. done: 100 [Current cost: -2.228635186919855]\n",
      "Iters. done: 101 [Current cost: -2.2288963429855926]\n",
      "Iters. done: 102 [Current cost: -2.2248231916491674]\n",
      "Iters. done: 103 [Current cost: -2.229342260277555]\n",
      "Iters. done: 104 [Current cost: -2.225819109735113]\n",
      "Iters. done: 105 [Current cost: -2.2302255554419625]\n",
      "Iters. done: 106 [Current cost: -2.2267350508771453]\n",
      "Iters. done: 107 [Current cost: -2.2283779718416987]\n",
      "Iters. done: 108 [Current cost: -2.2302629059971473]\n",
      "Iters. done: 109 [Current cost: -2.228045917459721]\n",
      "Iters. done: 110 [Current cost: -2.2326358688716907]\n",
      "Iters. done: 111 [Current cost: -2.234062229819024]\n",
      "Iters. done: 112 [Current cost: -2.2329579279952902]\n",
      "Iters. done: 113 [Current cost: -2.233566035202027]\n",
      "Iters. done: 114 [Current cost: -2.232484518942921]\n",
      "Iters. done: 115 [Current cost: -2.2343277802026265]\n",
      "Iters. done: 116 [Current cost: -2.2247310973899865]\n",
      "Iters. done: 117 [Current cost: -2.233945555307471]\n",
      "Iters. done: 118 [Current cost: -2.2317196169984137]\n",
      "Iters. done: 119 [Current cost: -2.2345004399774293]\n",
      "Iters. done: 120 [Current cost: -2.2290006318029363]\n",
      "Iters. done: 121 [Current cost: -2.2354337058631097]\n",
      "Iters. done: 122 [Current cost: -2.2330021601540695]\n",
      "Iters. done: 123 [Current cost: -2.2346384851748855]\n",
      "Iters. done: 124 [Current cost: -2.23513331642824]\n",
      "Iters. done: 125 [Current cost: -2.234906853024107]\n",
      "Iters. done: 126 [Current cost: -2.235315941314615]\n",
      "Iters. done: 127 [Current cost: -2.234360492799904]\n",
      "Iters. done: 128 [Current cost: -2.235417941850036]\n",
      "Iters. done: 129 [Current cost: -2.2349266806009207]\n",
      "Iters. done: 130 [Current cost: -2.2353572264978907]\n",
      "Iters. done: 131 [Current cost: -2.235614566675323]\n",
      "Iters. done: 132 [Current cost: -2.234925381303202]\n",
      "Iters. done: 133 [Current cost: -2.2324837089282554]\n",
      "Iters. done: 134 [Current cost: -2.2359317140672403]\n",
      "Iters. done: 135 [Current cost: -2.2352938488163683]\n",
      "Iters. done: 136 [Current cost: -2.2357502221847865]\n",
      "Iters. done: 137 [Current cost: -2.2355009083485506]\n",
      "Iters. done: 138 [Current cost: -2.235796959904655]\n",
      "Iters. done: 139 [Current cost: -2.235606501947031]\n",
      "Iters. done: 140 [Current cost: -2.2358071457614335]\n",
      "Iters. done: 141 [Current cost: -2.235360644527146]\n",
      "Iters. done: 142 [Current cost: -2.2356921755817645]\n",
      "Iters. done: 143 [Current cost: -2.2351801782708285]\n",
      "Iters. done: 144 [Current cost: -2.235882309907834]\n",
      "Iters. done: 145 [Current cost: -2.23593735169072]\n",
      "Iters. done: 146 [Current cost: -2.235888972980405]\n",
      "Iters. done: 147 [Current cost: -2.235909976045347]\n",
      "Iters. done: 148 [Current cost: -2.2358654983931934]\n",
      "Iters. done: 149 [Current cost: -2.2358570189252966]\n",
      "Iters. done: 150 [Current cost: -2.23564134173374]\n",
      "Iters. done: 151 [Current cost: -2.235909236882973]\n",
      "Iters. done: 152 [Current cost: -2.2359377884364395]\n",
      "Iters. done: 153 [Current cost: -2.236027415879998]\n",
      "Iters. done: 154 [Current cost: -2.2360148345956836]\n",
      "Iters. done: 155 [Current cost: -2.235881960302246]\n",
      "Iters. done: 156 [Current cost: -2.236024402876863]\n",
      "Iters. done: 157 [Current cost: -2.2360176498926396]\n",
      "Iters. done: 158 [Current cost: -2.23603114904897]\n",
      "Iters. done: 159 [Current cost: -2.235931736694304]\n",
      "Iters. done: 160 [Current cost: -2.2360127455453926]\n",
      "Iters. done: 161 [Current cost: -2.235982602215503]\n",
      "Iters. done: 162 [Current cost: -2.236020990777904]\n",
      "Iters. done: 163 [Current cost: -2.236033394154744]\n",
      "Iters. done: 164 [Current cost: -2.236004205072654]\n",
      "Iters. done: 165 [Current cost: -2.235991024983456]\n",
      "Iters. done: 166 [Current cost: -2.2360368940828654]\n",
      "Iters. done: 167 [Current cost: -2.2360248528845275]\n",
      "Iters. done: 168 [Current cost: -2.236038192414847]\n",
      "Iters. done: 169 [Current cost: -2.2360074543794908]\n",
      "Iters. done: 170 [Current cost: -2.2360361684893326]\n",
      "Iters. done: 171 [Current cost: -2.235932886494753]\n",
      "Iters. done: 172 [Current cost: -2.236031840444067]\n",
      "Iters. done: 173 [Current cost: -2.2360227686818077]\n",
      "Iters. done: 174 [Current cost: -2.236048434307408]\n",
      "Iters. done: 175 [Current cost: -2.236045146438733]\n",
      "Iters. done: 176 [Current cost: -2.2360570772076476]\n",
      "Iters. done: 177 [Current cost: -2.2360541681807775]\n",
      "Iters. done: 178 [Current cost: -2.2360532638646924]\n",
      "Iters. done: 179 [Current cost: -2.236053097005617]\n",
      "Iters. done: 180 [Current cost: -2.236040158579486]\n",
      "Iters. done: 181 [Current cost: -2.236058641084056]\n",
      "Iters. done: 182 [Current cost: -2.236031782473571]\n",
      "Iters. done: 183 [Current cost: -2.236061240311462]\n",
      "Iters. done: 184 [Current cost: -2.2360585091600376]\n",
      "Iters. done: 185 [Current cost: -2.2360565405758352]\n",
      "Iters. done: 186 [Current cost: -2.2360457750343974]\n",
      "Iters. done: 187 [Current cost: -2.2360621282698756]\n",
      "Iters. done: 188 [Current cost: -2.2360402667507606]\n",
      "Iters. done: 189 [Current cost: -2.2360653436723976]\n",
      "Iters. done: 190 [Current cost: -2.236063683716278]\n",
      "Iters. done: 191 [Current cost: -2.236063760345229]\n",
      "Iters. done: 192 [Current cost: -2.2360514840029864]\n",
      "Iters. done: 193 [Current cost: -2.2360636583324225]\n",
      "Iters. done: 194 [Current cost: -2.2360659164250833]\n",
      "Iters. done: 195 [Current cost: -2.236063300803746]\n",
      "Iters. done: 196 [Current cost: -2.2360636667330858]\n",
      "Iters. done: 197 [Current cost: -2.236064238083018]\n",
      "Iters. done: 198 [Current cost: -2.236065402673245]\n",
      "Iters. done: 199 [Current cost: -2.236060946194068]\n",
      "Iters. done: 200 [Current cost: -2.2360645574556357]\n",
      "Iters. done: 201 [Current cost: -2.2360644550546698]\n",
      "Iters. done: 202 [Current cost: -2.2360666891686347]\n",
      "Iters. done: 203 [Current cost: -2.2360605778800404]\n",
      "Iters. done: 204 [Current cost: -2.2360671939504027]\n",
      "Iters. done: 205 [Current cost: -2.2360658011709535]\n",
      "Iters. done: 206 [Current cost: -2.2360672766136065]\n",
      "Iters. done: 207 [Current cost: -2.2360647108207954]\n",
      "Iters. done: 208 [Current cost: -2.2360671853270566]\n",
      "Iters. done: 209 [Current cost: -2.2360636281335573]\n",
      "Iters. done: 210 [Current cost: -2.236066900782108]\n",
      "Iters. done: 211 [Current cost: -2.2360670568521743]\n",
      "Iters. done: 212 [Current cost: -2.236066486211218]\n",
      "Iters. done: 213 [Current cost: -2.236067367068837]\n",
      "Iters. done: 214 [Current cost: -2.23606575308136]\n",
      "Iters. done: 215 [Current cost: -2.236067522991036]\n",
      "Iters. done: 216 [Current cost: -2.2360667379922328]\n",
      "Iters. done: 217 [Current cost: -2.2360675708034936]\n",
      "Iters. done: 218 [Current cost: -2.2360664951145455]\n",
      "Iters. done: 219 [Current cost: -2.236067127383615]\n",
      "Iters. done: 220 [Current cost: -2.2360666963195217]\n",
      "Iters. done: 221 [Current cost: -2.236067619690824]\n",
      "Iters. done: 222 [Current cost: -2.2360664189801107]\n",
      "Iters. done: 223 [Current cost: -2.2360676979694474]\n",
      "Iters. done: 224 [Current cost: -2.236066961838526]\n",
      "Iters. done: 225 [Current cost: -2.2360674572015506]\n",
      "Iters. done: 226 [Current cost: -2.236067610372858]\n",
      "Iters. done: 227 [Current cost: -2.2360676227211114]\n",
      "Iters. done: 228 [Current cost: -2.2360676747885027]\n",
      "Iters. done: 229 [Current cost: -2.236067680631983]\n",
      "Iters. done: 230 [Current cost: -2.2360672545097566]\n",
      "Iters. done: 231 [Current cost: -2.236067836610847]\n",
      "Iters. done: 232 [Current cost: -2.236067806612463]\n",
      "Iters. done: 233 [Current cost: -2.236067727220536]\n",
      "Iters. done: 234 [Current cost: -2.236067874351664]\n",
      "Iters. done: 235 [Current cost: -2.2360671530835514]\n",
      "Iters. done: 236 [Current cost: -2.2360678380982946]\n",
      "Iters. done: 237 [Current cost: -2.2360676725165436]\n",
      "Iters. done: 238 [Current cost: -2.2360678446602464]\n",
      "Iters. done: 239 [Current cost: -2.23606779520343]\n",
      "Iters. done: 240 [Current cost: -2.236067876319675]\n",
      "Iters. done: 241 [Current cost: -2.2360678208755993]\n",
      "Iters. done: 242 [Current cost: -2.236067933531425]\n",
      "Iters. done: 243 [Current cost: -2.2360677933884583]\n",
      "Iters. done: 244 [Current cost: -2.2360679373359873]\n",
      "Iters. done: 245 [Current cost: -2.236067839952092]\n",
      "Iters. done: 246 [Current cost: -2.23606788457602]\n",
      "Iters. done: 247 [Current cost: -2.2360679359288587]\n",
      "Iters. done: 248 [Current cost: -2.2360677436768017]\n",
      "Iters. done: 249 [Current cost: -2.236067916917258]\n",
      "Iters. done: 250 [Current cost: -2.2360678534104803]\n",
      "Iters. done: 251 [Current cost: -2.2360679321746515]\n",
      "Iters. done: 252 [Current cost: -2.2360679391376603]\n",
      "Iters. done: 253 [Current cost: -2.236067924195434]\n",
      "Iters. done: 254 [Current cost: -2.2360678736640813]\n",
      "Iters. done: 255 [Current cost: -2.23606793414776]\n",
      "Iters. done: 256 [Current cost: -2.236067883703579]\n",
      "Iters. done: 257 [Current cost: -2.2360679417586202]\n",
      "Iters. done: 258 [Current cost: -2.236067899663487]\n",
      "Iters. done: 259 [Current cost: -2.2360679172506503]\n",
      "Iters. done: 260 [Current cost: -2.236067896937008]\n",
      "Iters. done: 261 [Current cost: -2.2360679197516258]\n",
      "Iters. done: 262 [Current cost: -2.2360679505572745]\n",
      "Iters. done: 263 [Current cost: -2.236067948480031]\n",
      "Iters. done: 264 [Current cost: -2.2360678839641985]\n",
      "Iters. done: 265 [Current cost: -2.2360679325992865]\n",
      "Iters. done: 266 [Current cost: -2.236067901579216]\n",
      "Iters. done: 267 [Current cost: -2.236067953799034]\n",
      "Iters. done: 268 [Current cost: -2.236067957451792]\n",
      "Iters. done: 269 [Current cost: -2.236067941381169]\n",
      "Iters. done: 270 [Current cost: -2.236067964761336]\n",
      "Iters. done: 271 [Current cost: -2.2360679599873485]\n",
      "Iters. done: 272 [Current cost: -2.236067965730972]\n",
      "Iters. done: 273 [Current cost: -2.2360679673895443]\n",
      "Iters. done: 274 [Current cost: -2.2360679630211386]\n",
      "Iters. done: 275 [Current cost: -2.2360679614441348]\n",
      "Iters. done: 276 [Current cost: -2.236067968183552]\n",
      "Iters. done: 277 [Current cost: -2.2360679576778804]\n",
      "Iters. done: 278 [Current cost: -2.2360679723160244]\n",
      "Iters. done: 279 [Current cost: -2.236067971463814]\n",
      "Iters. done: 280 [Current cost: -2.2360679716234975]\n",
      "Iters. done: 281 [Current cost: -2.236067972124555]\n",
      "Iters. done: 282 [Current cost: -2.2360679691184515]\n",
      "Iters. done: 283 [Current cost: -2.2360679737627764]\n"
     ]
    },
    {
     "data": {
      "text/plain": [
       " message: Optimization terminated successfully.\n",
       " success: True\n",
       "  status: 1\n",
       "     fun: -2.2360679737627764\n",
       "       x: [ 2.468e+00  6.338e+00 ...  3.515e+00  5.604e+00]\n",
       "    nfev: 283\n",
       "   maxcv: 0.0"
      ]
     },
     "execution_count": 11,
     "metadata": {},
     "output_type": "execute_result"
    }
   ],
   "source": [
    "\n",
    "result = minimize(cost_func, x0, args=(ansatz,hamiltonian, estimator), method=\"COBYLA\")\n",
    "\n",
    "result"
   ]
  },
  {
   "cell_type": "code",
   "execution_count": 14,
   "metadata": {},
   "outputs": [
    {
     "name": "stdout",
     "output_type": "stream",
     "text": [
      "Ground State Energy  -2.2360679737627764\n"
     ]
    }
   ],
   "source": [
    "print(\"Ground State Energy \", result.fun)"
   ]
  },
  {
   "cell_type": "markdown",
   "metadata": {},
   "source": [
    "# Plotting Results"
   ]
  },
  {
   "cell_type": "code",
   "execution_count": 21,
   "metadata": {},
   "outputs": [
    {
     "data": {
      "image/png": "[encoded data removed]",
      "text/plain": [
       "<Figure size 640x480 with 1 Axes>"
      ]
     },
     "metadata": {},
     "output_type": "display_data"
    }
   ],
   "source": [
    "fig, ax = plt.subplots()\n",
    "ax.plot(range(cost_history_dict[\"iters\"]), cost_history_dict[\"cost_history\"])\n",
    "ax.set_xlabel(\"Iterations\")\n",
    "ax.set_ylabel(\"Cost\")\n",
    "plt.draw()"
   ]
  },
  {
   "cell_type": "markdown",
   "metadata": {},
   "source": [
    "# Result using Inbuilt NumPyMinimumEigensolver"
   ]
  },
  {
   "cell_type": "code",
   "execution_count": 19,
   "metadata": {},
   "outputs": [
    {
     "name": "stdout",
     "output_type": "stream",
     "text": [
      "Exact Ground State Energy: -2.2360679774997885\n"
     ]
    }
   ],
   "source": [
    "from qiskit_algorithms import NumPyMinimumEigensolver\n",
    "from qiskit.quantum_info import SparsePauliOp\n",
    "\n",
    "solver = NumPyMinimumEigensolver()\n",
    "exact_result = solver.compute_minimum_eigenvalue(hamiltonian)\n",
    "exact_energy = exact_result.eigenvalue.real\n",
    "\n",
    "# Step 6: Results and Analysis\n",
    "print(\"Exact Ground State Energy:\", exact_energy)"
   ]
  }
 ],
 "metadata": {
  "kernelspec": {
   "display_name": "cwq",
   "language": "python",
   "name": "python3"
  },
  "language_info": {
   "codemirror_mode": {
    "name": "ipython",
    "version": 3
   },
   "file_extension": ".py",
   "mimetype": "text/x-python",
   "name": "python",
   "nbconvert_exporter": "python",
   "pygments_lexer": "ipython3",
   "version": "3.12.4"
  }
 },
 "nbformat": 4,
 "nbformat_minor": 2
}
